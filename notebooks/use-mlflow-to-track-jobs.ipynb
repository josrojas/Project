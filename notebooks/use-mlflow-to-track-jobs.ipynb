{
 "cells": [
  {
   "cell_type": "markdown",
   "metadata": {
    "id": "vvgRoMv1dPgK"
   },
   "source": [
    "# Run a training script as a command job\n",
    "\n",
    "You can use the Python SDK for Azure Machine Learning to submit scripts as command jobs. By using jobs, you can easily keep track of the input parameters and outputs when training a machine learning model.\n",
    "\n",
    "## Before you start\n",
    "\n",
    "You'll need the latest version of the **azureml-ai-ml** package to run the code in this notebook. Run the cell below to verify that it is installed.\n",
    "\n",
    "> **Note**:\n",
    "> If the **azure-ai-ml** package is not installed, run `pip install azure-ai-ml` to install it."
   ]
  },
  {
   "cell_type": "code",
   "execution_count": null,
   "metadata": {
    "id": "PT89_as8dPgL"
   },
   "outputs": [],
   "source": [
    "pip show azure-ai-ml"
   ]
  },
  {
   "cell_type": "markdown",
   "metadata": {
    "id": "K5O9K8p3dPgL"
   },
   "source": [
    "## Connect to your workspace\n",
    "\n",
    "With the required SDK packages installed, now you're ready to connect to your workspace.\n",
    "\n",
    "To connect to a workspace, we need identifier parameters - a subscription ID, resource group name, and workspace name. Since you're working with a compute instance, managed by Azure Machine Learning, you can use the default values to connect to the workspace."
   ]
  },
  {
   "cell_type": "code",
   "execution_count": null,
   "metadata": {
    "gather": {
     "logged": 1663753569264
    },
    "id": "gsKSvpAldPgM"
   },
   "outputs": [],
   "source": [
    "from azure.identity import DefaultAzureCredential, InteractiveBrowserCredential\n",
    "from azure.ai.ml import MLClient\n",
    "\n",
    "try:\n",
    "    credential = DefaultAzureCredential()\n",
    "    # Check if given credential can get token successfully.\n",
    "    credential.get_token(\"https://management.azure.com/.default\")\n",
    "except Exception as ex:\n",
    "    # Fall back to InteractiveBrowserCredential in case DefaultAzureCredential not work\n",
    "    credential = InteractiveBrowserCredential()"
   ]
  },
  {
   "cell_type": "code",
   "execution_count": null,
   "metadata": {
    "id": "HYqpMaqJdPgM"
   },
   "outputs": [],
   "source": [
    "# Get a handle to workspace\n",
    "ml_client = MLClient.from_config(credential=credential)"
   ]
  },
  {
   "cell_type": "markdown",
   "metadata": {
    "id": "ycG1izJtdPgM"
   },
   "source": [
    "## Custom tracking with MLflow\n",
    "\n",
    "When running a script as a job you can use MLflow in your training script to track the model. MLflow allows you to track any custom parameters, metrics, or artifacts you want to store with your job output.\n",
    "\n",
    "Run the following cells to create the **train-model-mlflow.py** script in the **src** folder. The script trains a classification model by using the **heart_disease.csv** file in the same folder, which is passed as an argument.\n",
    "\n",
    "Review the code below to find that the script will import `mlflow` and log:\n",
    "\n",
    "- The regularization rate as a **parameter**.\n",
    "- The accuracy and AUC as **metrics**.\n",
    "- The plotted ROC curve as an **artifact**."
   ]
  },
  {
   "cell_type": "code",
   "execution_count": 1,
   "metadata": {
    "id": "4XO9Jb73dPgM"
   },
   "outputs": [
    {
     "name": "stdout",
     "output_type": "stream",
     "text": [
      "src folder created\n"
     ]
    }
   ],
   "source": [
    "import os\n",
    "\n",
    "# create a folder for the script files\n",
    "script_folder = 'src'\n",
    "os.makedirs(script_folder, exist_ok=True)\n",
    "print(script_folder, 'folder created')"
   ]
  },
  {
   "cell_type": "code",
   "execution_count": 2,
   "metadata": {
    "id": "6huQq_xpdPgM"
   },
   "outputs": [
    {
     "name": "stdout",
     "output_type": "stream",
     "text": [
      "Overwriting src/train-model-mlflow.py\n"
     ]
    }
   ],
   "source": [
    "%%writefile $script_folder/train-model-mlflow.py\n",
    "# import libraries\n",
    "import mlflow\n",
    "import argparse\n",
    "import pandas as pd\n",
    "import numpy as np\n",
    "from sklearn.model_selection import train_test_split\n",
    "from sklearn.linear_model import LogisticRegression\n",
    "from sklearn.metrics import roc_auc_score\n",
    "from sklearn.metrics import roc_curve\n",
    "import matplotlib.pyplot as plt\n",
    "\n",
    "def main(args):\n",
    "    # read data\n",
    "    df = get_data(args.training_data)\n",
    "\n",
    "    # split data\n",
    "    X_train, X_test, y_train, y_test = split_data(df)\n",
    "\n",
    "    # train model\n",
    "    model = train_model(args.reg_rate, X_train, X_test, y_train, y_test)\n",
    "\n",
    "    # evaluate model\n",
    "    eval_model(model, X_test, y_test)\n",
    "\n",
    "# function that reads the data\n",
    "def get_data(path):\n",
    "    print(\"Reading data...\")\n",
    "    df = pd.read_csv(path)\n",
    "\n",
    "    return df\n",
    "\n",
    "# function that splits the data\n",
    "def split_data(df):\n",
    "    print(\"Splitting data...\")\n",
    "    X, y = df[['sex','age','education','smokingStatus', 'cigsPerDay', 'BPMeds', 'prevalentStroke', 'prevalentHyp', 'diabetes', 'totChol', \n",
    "    'sysBP', 'diaBP', 'BMI', 'heartRate', 'glucose'\n",
    "    ]].values, df['CHDRisk'].values\n",
    "\n",
    "    X_train, X_test, y_train, y_test = train_test_split(X, y, test_size=0.20, random_state=0)\n",
    "\n",
    "    return X_train, X_test, y_train, y_test\n",
    "\n",
    "# function that trains the model\n",
    "def train_model(reg_rate, X_train, X_test, y_train, y_test):\n",
    "    mlflow.log_param(\"Regularization rate\", reg_rate)\n",
    "    print(\"Training model...\")\n",
    "    model = LogisticRegression(C=1/reg_rate, solver=\"liblinear\").fit(X_train, y_train)\n",
    "\n",
    "    return model\n",
    "\n",
    "# function that evaluates the model\n",
    "def eval_model(model, X_test, y_test):\n",
    "    # calculate accuracy\n",
    "    y_hat = model.predict(X_test)\n",
    "    acc = np.average(y_hat == y_test)\n",
    "    print('Accuracy:', acc)\n",
    "    mlflow.log_metric(\"Accuracy\", acc)\n",
    "\n",
    "    # calculate AUC\n",
    "    y_scores = model.predict_proba(X_test)\n",
    "    auc = roc_auc_score(y_test,y_scores[:,1])\n",
    "    print('AUC: ' + str(auc))\n",
    "    mlflow.log_metric(\"AUC\", auc)\n",
    "\n",
    "    # plot ROC curve\n",
    "    fpr, tpr, thresholds = roc_curve(y_test, y_scores[:,1])\n",
    "    fig = plt.figure(figsize=(6, 4))\n",
    "    # Plot the diagonal 50% line\n",
    "    plt.plot([0, 1], [0, 1], 'k--')\n",
    "    # Plot the FPR and TPR achieved by our model\n",
    "    plt.plot(fpr, tpr)\n",
    "    plt.xlabel('False Positive Rate')\n",
    "    plt.ylabel('True Positive Rate')\n",
    "    plt.title('ROC Curve')\n",
    "    plt.savefig(\"ROC-Curve.png\")\n",
    "    mlflow.log_artifact(\"ROC-Curve.png\")\n",
    "\n",
    "def parse_args():\n",
    "    # setup arg parser\n",
    "    parser = argparse.ArgumentParser()\n",
    "\n",
    "    # add arguments\n",
    "    parser.add_argument(\"--training_data\", dest='training_data',\n",
    "                        type=str)\n",
    "    parser.add_argument(\"--reg_rate\", dest='reg_rate',\n",
    "                        type=float, default=0.01)\n",
    "\n",
    "    # parse args\n",
    "    args = parser.parse_args()\n",
    "\n",
    "    # return args\n",
    "    return args\n",
    "\n",
    "# run script\n",
    "if __name__ == \"__main__\":\n",
    "    # add space in logs\n",
    "    print(\"\\n\\n\")\n",
    "    print(\"*\" * 60)\n",
    "\n",
    "    # parse args\n",
    "    args = parse_args()\n",
    "\n",
    "    # run main function\n",
    "    main(args)\n",
    "\n",
    "    # add space in logs\n",
    "    print(\"*\" * 60)\n",
    "    print(\"\\n\\n\")\n"
   ]
  },
  {
   "cell_type": "markdown",
   "metadata": {
    "id": "SBTAidMsdPgN"
   },
   "source": [
    "Now, you can submit the script as a command job.\n",
    "\n",
    "Run the cell below to train the model."
   ]
  },
  {
   "cell_type": "code",
   "execution_count": null,
   "metadata": {
    "id": "0BhjZia5dPgN"
   },
   "outputs": [],
   "source": [
    "from azure.ai.ml import command\n",
    "\n",
    "# configure job\n",
    "\n",
    "job = command(\n",
    "    code=\"../data\",\n",
    "    command=\"python train-model-mlflow.py --training_data Heart_Disease.csv\",\n",
    "    environment=\"AzureML-sklearn-0.24-ubuntu18.04-py37-cpu@latest\",\n",
    "    compute=\"aml-cluster\",\n",
    "    display_name=\"heart-disease-train-mlflow\",\n",
    "    experiment_name=\"heart-disease-training\",\n",
    "    tags={\"model_type\": \"LogisticRegression\"}\n",
    "    )\n",
    "\n",
    "# submit job\n",
    "returned_job = ml_client.create_or_update(job)\n",
    "aml_url = returned_job.studio_url\n",
    "print(\"Monitor your job at\", aml_url)"
   ]
  },
  {
   "cell_type": "markdown",
   "metadata": {
    "id": "f4DUa_-odPgN"
   },
   "source": [
    "In the Studio, navigate to the **diabetes-train-mlflow** job to explore the overview of the command job you ran:\n",
    "\n",
    "- Find the logged parameters in the **Overview** tab, under **Params**.\n",
    "- Find the logged metrics in the **Metrics** tab.\n",
    "- Find the logged artifacts in the **Images** tab (specifically for images), and in the **Outputs + logs** tab (all files)."
   ]
  },
  {
   "cell_type": "markdown",
   "metadata": {
    "id": "hxJ9rIX2dPgN"
   },
   "source": [
    "## Autologging with MLflow\n",
    "\n",
    "Instead of using custom logging, MLflow can also automatically log any parameters, metrics, and artifacts. Autologging with MLflow requires only one line of code.\n",
    "\n",
    "Run the following cell to create the **train-model-autolog.py** script in the **src** folder. The script trains a classification model by using the **heart_disease.csv** file in the same folder, which is passed as an argument.\n",
    "\n",
    "Review the code below to find that the script will import `mlflow` and enables autologging with the line:\n",
    "\n",
    "`mlflow.autolog()`"
   ]
  },
  {
   "cell_type": "code",
   "execution_count": 3,
   "metadata": {
    "id": "c8x7UemBdPgO"
   },
   "outputs": [
    {
     "name": "stdout",
     "output_type": "stream",
     "text": [
      "Overwriting src/train-model-autolog.py\n"
     ]
    }
   ],
   "source": [
    "%%writefile $script_folder/train-model-autolog.py\n",
    "# import libraries\n",
    "import mlflow\n",
    "import argparse\n",
    "import pandas as pd\n",
    "import numpy as np\n",
    "from sklearn.model_selection import train_test_split\n",
    "from sklearn.linear_model import LogisticRegression\n",
    "from sklearn.metrics import roc_auc_score\n",
    "from sklearn.metrics import roc_curve\n",
    "import matplotlib.pyplot as plt\n",
    "\n",
    "def main(args):\n",
    "    # enable autologging\n",
    "    mlflow.autolog()\n",
    "\n",
    "    # read data\n",
    "    df = get_data(args.training_data)\n",
    "\n",
    "    # split data\n",
    "    X_train, X_test, y_train, y_test = split_data(df)\n",
    "\n",
    "    # train model\n",
    "    model = train_model(args.reg_rate, X_train, X_test, y_train, y_test)\n",
    "\n",
    "    eval_model(model, X_test, y_test)\n",
    "\n",
    "# function that reads the data\n",
    "def get_data(path):\n",
    "    print(\"Reading data...\")\n",
    "    df = pd.read_csv(path)\n",
    "\n",
    "    return df\n",
    "\n",
    "# function that splits the data\n",
    "def split_data(df):\n",
    "    print(\"Splitting data...\")\n",
    "    X, y = df[['sex','age','education','smokingStatus', 'cigsPerDay', 'BPMeds', 'prevalentStroke', 'prevalentHyp', 'diabetes', 'totChol', \n",
    "    'sysBP', 'diaBP', 'BMI', 'heartRate', 'glucose'\n",
    "    ]].values, df['CHDRisk'].values\n",
    "\n",
    "    X_train, X_test, y_train, y_test = train_test_split(X, y, test_size=0.20, random_state=0)\n",
    "\n",
    "    return X_train, X_test, y_train, y_test\n",
    "\n",
    "# function that trains the model\n",
    "def train_model(reg_rate, X_train, X_test, y_train, y_test):\n",
    "    mlflow.log_param(\"Regularization rate\", reg_rate)\n",
    "    print(\"Training model...\")\n",
    "    model = LogisticRegression(C=1/reg_rate, solver=\"liblinear\").fit(X_train, y_train)\n",
    "\n",
    "    return model\n",
    "\n",
    "# function that evaluates the model\n",
    "def eval_model(model, X_test, y_test):\n",
    "    # calculate accuracy\n",
    "    y_hat = model.predict(X_test)\n",
    "    acc = np.average(y_hat == y_test)\n",
    "    print('Accuracy:', acc)\n",
    "\n",
    "    # calculate AUC\n",
    "    y_scores = model.predict_proba(X_test)\n",
    "    auc = roc_auc_score(y_test,y_scores[:,1])\n",
    "    print('AUC: ' + str(auc))\n",
    "\n",
    "    # plot ROC curve\n",
    "    fpr, tpr, thresholds = roc_curve(y_test, y_scores[:,1])\n",
    "    fig = plt.figure(figsize=(6, 4))\n",
    "    # Plot the diagonal 50% line\n",
    "    plt.plot([0, 1], [0, 1], 'k--')\n",
    "    # Plot the FPR and TPR achieved by our model\n",
    "    plt.plot(fpr, tpr)\n",
    "    plt.xlabel('False Positive Rate')\n",
    "    plt.ylabel('True Positive Rate')\n",
    "    plt.title('ROC Curve')\n",
    "    plt.savefig(\"ROC-Curve.png\")\n",
    "\n",
    "def parse_args():\n",
    "    # setup arg parser\n",
    "    parser = argparse.ArgumentParser()\n",
    "\n",
    "    # add arguments\n",
    "    parser.add_argument(\"--training_data\", dest='training_data',\n",
    "                        type=str)\n",
    "    parser.add_argument(\"--reg_rate\", dest='reg_rate',\n",
    "                        type=float, default=0.01)\n",
    "\n",
    "    # parse args\n",
    "    args = parser.parse_args()\n",
    "\n",
    "    # return args\n",
    "    return args\n",
    "\n",
    "# run script\n",
    "if __name__ == \"__main__\":\n",
    "    # add space in logs\n",
    "    print(\"\\n\\n\")\n",
    "    print(\"*\" * 60)\n",
    "\n",
    "    # parse args\n",
    "    args = parse_args()\n",
    "\n",
    "    # run main function\n",
    "    main(args)\n",
    "\n",
    "    # add space in logs\n",
    "    print(\"*\" * 60)\n",
    "    print(\"\\n\\n\")\n"
   ]
  },
  {
   "cell_type": "markdown",
   "metadata": {
    "id": "dcd-aRtHdPgO"
   },
   "source": [
    "Now, you can submit the script as a command job.\n",
    "\n",
    "Run the cell below to train the model."
   ]
  },
  {
   "cell_type": "code",
   "execution_count": null,
   "metadata": {
    "id": "HQuKNaHtdPgO"
   },
   "outputs": [],
   "source": [
    "from azure.ai.ml import command\n",
    "\n",
    "# configure job\n",
    "\n",
    "job = command(\n",
    "    code=\"../data\",\n",
    "    command=\"python train-model-autolog.py --training_data Heart_Disease.csv\",\n",
    "    environment=\"AzureML-sklearn-0.24-ubuntu18.04-py37-cpu@latest\",\n",
    "    compute=\"aml-cluster\",\n",
    "    display_name=\"heart-disease-train-autolog\",\n",
    "    experiment_name=\"heart-disease-training\"\n",
    "    )\n",
    "\n",
    "# submit job\n",
    "returned_job = ml_client.create_or_update(job)\n",
    "aml_url = returned_job.studio_url\n",
    "print(\"Monitor your job at\", aml_url)"
   ]
  },
  {
   "cell_type": "markdown",
   "metadata": {
    "id": "2pvry6-BdPgO"
   },
   "source": [
    "In the Studio, navigate to the **diabetes-train-autolog** job to explore the overview of the command job you ran:\n",
    "\n",
    "- Find the logged parameters in the **Overview** tab, under **Params**.\n",
    "- Find the logged metrics in the **Metrics** tab.\n",
    "- Find the logged artifacts in the **Images** tab (specifically for images), and in the **Outputs + logs** tab (all files, including the model files)."
   ]
  },
  {
   "cell_type": "markdown",
   "metadata": {
    "id": "bR8HBGEKdPgO"
   },
   "source": [
    "## Use MLflow to view and search for experiments\n",
    "\n",
    "The Azure Machine Learning Studio is an easy-to-use UI to view and compare job runs. Alternatively, you can use MLflow to view experiment jobs.\n",
    "\n",
    "To list the jobs in the workspace, use the following command to list the experiments in the workspace:\n"
   ]
  },
  {
   "cell_type": "code",
   "execution_count": 4,
   "metadata": {
    "id": "fbBI527mdPgP"
   },
   "outputs": [
    {
     "name": "stdout",
     "output_type": "stream",
     "text": [
      "mlflow-experiment-heart-disease\n",
      "Default\n"
     ]
    }
   ],
   "source": [
    "import mlflow\n",
    "experiments = mlflow.search_experiments()\n",
    "for exp in experiments:\n",
    "    print(exp.name)"
   ]
  },
  {
   "cell_type": "markdown",
   "metadata": {
    "id": "NanN1W3bdPgP"
   },
   "source": [
    "To retrieve a specific experiment, you can get it by its name:"
   ]
  },
  {
   "cell_type": "code",
   "execution_count": 8,
   "metadata": {
    "id": "Yr6IuRVpdPgP"
   },
   "outputs": [
    {
     "name": "stdout",
     "output_type": "stream",
     "text": [
      "<Experiment: artifact_location='file:///c:/Users/Jose/Documents/Jos/Cursos/Azure/Project/notebooks/mlruns/413629019968705854', creation_time=1748294733760, experiment_id='413629019968705854', last_update_time=1748294733760, lifecycle_stage='active', name='mlflow-experiment-heart-disease', tags={}>\n"
     ]
    }
   ],
   "source": [
    "experiment_name = \"mlflow-experiment-heart-disease\"\n",
    "exp = mlflow.get_experiment_by_name(experiment_name)\n",
    "print(exp)"
   ]
  },
  {
   "cell_type": "markdown",
   "metadata": {
    "id": "CSXQj3ZvdPgP"
   },
   "source": [
    "Using an experiment name, you can retrieve all jobs of that experiment:"
   ]
  },
  {
   "cell_type": "code",
   "execution_count": 7,
   "metadata": {},
   "outputs": [
    {
     "name": "stdout",
     "output_type": "stream",
     "text": [
      "mlflow-experiment-heart-disease\n",
      "Default\n"
     ]
    }
   ],
   "source": [
    "import mlflow\n",
    "experiments = mlflow.search_experiments()\n",
    "for exp in experiments:\n",
    "    print(exp.name)"
   ]
  },
  {
   "cell_type": "code",
   "execution_count": 9,
   "metadata": {
    "id": "EFtTxkoFdPgP"
   },
   "outputs": [
    {
     "data": {
      "text/html": [
       "<div>\n",
       "<style scoped>\n",
       "    .dataframe tbody tr th:only-of-type {\n",
       "        vertical-align: middle;\n",
       "    }\n",
       "\n",
       "    .dataframe tbody tr th {\n",
       "        vertical-align: top;\n",
       "    }\n",
       "\n",
       "    .dataframe thead th {\n",
       "        text-align: right;\n",
       "    }\n",
       "</style>\n",
       "<table border=\"1\" class=\"dataframe\">\n",
       "  <thead>\n",
       "    <tr style=\"text-align: right;\">\n",
       "      <th></th>\n",
       "      <th>run_id</th>\n",
       "      <th>experiment_id</th>\n",
       "      <th>status</th>\n",
       "      <th>artifact_uri</th>\n",
       "      <th>start_time</th>\n",
       "      <th>end_time</th>\n",
       "      <th>metrics.Accuracy</th>\n",
       "      <th>metrics.training_score</th>\n",
       "      <th>metrics.training_precision_score</th>\n",
       "      <th>metrics.training_f1_score</th>\n",
       "      <th>...</th>\n",
       "      <th>params.tol</th>\n",
       "      <th>params.solver</th>\n",
       "      <th>params.multi_class</th>\n",
       "      <th>tags.mlflow.source.name</th>\n",
       "      <th>tags.mlflow.source.type</th>\n",
       "      <th>tags.mlflow.runName</th>\n",
       "      <th>tags.mlflow.user</th>\n",
       "      <th>tags.mlflow.log-model.history</th>\n",
       "      <th>tags.estimator_name</th>\n",
       "      <th>tags.estimator_class</th>\n",
       "    </tr>\n",
       "  </thead>\n",
       "  <tbody>\n",
       "    <tr>\n",
       "      <th>0</th>\n",
       "      <td>05b1a400219f429990f581d653bd46c9</td>\n",
       "      <td>413629019968705854</td>\n",
       "      <td>FINISHED</td>\n",
       "      <td>file:///c:/Users/Jose/Documents/Jos/Cursos/Azu...</td>\n",
       "      <td>2025-05-26 21:28:05.986000+00:00</td>\n",
       "      <td>2025-05-26 21:28:06.136000+00:00</td>\n",
       "      <td>0.763265</td>\n",
       "      <td>NaN</td>\n",
       "      <td>NaN</td>\n",
       "      <td>NaN</td>\n",
       "      <td>...</td>\n",
       "      <td>None</td>\n",
       "      <td>None</td>\n",
       "      <td>None</td>\n",
       "      <td>C:\\Users\\Jose\\AppData\\Local\\Packages\\PythonSof...</td>\n",
       "      <td>LOCAL</td>\n",
       "      <td>monumental-snake-376</td>\n",
       "      <td>Jose</td>\n",
       "      <td>None</td>\n",
       "      <td>None</td>\n",
       "      <td>None</td>\n",
       "    </tr>\n",
       "    <tr>\n",
       "      <th>1</th>\n",
       "      <td>176ca09275384d44ad61399db8397e8f</td>\n",
       "      <td>413629019968705854</td>\n",
       "      <td>FINISHED</td>\n",
       "      <td>file:///c:/Users/Jose/Documents/Jos/Cursos/Azu...</td>\n",
       "      <td>2025-05-26 21:28:00.214000+00:00</td>\n",
       "      <td>2025-05-26 21:28:00.270000+00:00</td>\n",
       "      <td>0.774150</td>\n",
       "      <td>NaN</td>\n",
       "      <td>NaN</td>\n",
       "      <td>NaN</td>\n",
       "      <td>...</td>\n",
       "      <td>None</td>\n",
       "      <td>None</td>\n",
       "      <td>None</td>\n",
       "      <td>C:\\Users\\Jose\\AppData\\Local\\Packages\\PythonSof...</td>\n",
       "      <td>LOCAL</td>\n",
       "      <td>smiling-sloth-305</td>\n",
       "      <td>Jose</td>\n",
       "      <td>None</td>\n",
       "      <td>None</td>\n",
       "      <td>None</td>\n",
       "    </tr>\n",
       "    <tr>\n",
       "      <th>2</th>\n",
       "      <td>53d1b0d82b3848bab5ebd07763990a92</td>\n",
       "      <td>413629019968705854</td>\n",
       "      <td>FINISHED</td>\n",
       "      <td>file:///c:/Users/Jose/Documents/Jos/Cursos/Azu...</td>\n",
       "      <td>2025-05-26 21:27:56.606000+00:00</td>\n",
       "      <td>2025-05-26 21:27:56.670000+00:00</td>\n",
       "      <td>0.834014</td>\n",
       "      <td>NaN</td>\n",
       "      <td>NaN</td>\n",
       "      <td>NaN</td>\n",
       "      <td>...</td>\n",
       "      <td>None</td>\n",
       "      <td>None</td>\n",
       "      <td>None</td>\n",
       "      <td>C:\\Users\\Jose\\AppData\\Local\\Packages\\PythonSof...</td>\n",
       "      <td>LOCAL</td>\n",
       "      <td>unleashed-rat-43</td>\n",
       "      <td>Jose</td>\n",
       "      <td>None</td>\n",
       "      <td>None</td>\n",
       "      <td>None</td>\n",
       "    </tr>\n",
       "    <tr>\n",
       "      <th>3</th>\n",
       "      <td>805c73d3309940a38e481ba11607a0ae</td>\n",
       "      <td>413629019968705854</td>\n",
       "      <td>FINISHED</td>\n",
       "      <td>file:///c:/Users/Jose/Documents/Jos/Cursos/Azu...</td>\n",
       "      <td>2025-05-26 21:27:52.026000+00:00</td>\n",
       "      <td>2025-05-26 21:27:52.106000+00:00</td>\n",
       "      <td>0.834014</td>\n",
       "      <td>NaN</td>\n",
       "      <td>NaN</td>\n",
       "      <td>NaN</td>\n",
       "      <td>...</td>\n",
       "      <td>None</td>\n",
       "      <td>None</td>\n",
       "      <td>None</td>\n",
       "      <td>C:\\Users\\Jose\\AppData\\Local\\Packages\\PythonSof...</td>\n",
       "      <td>LOCAL</td>\n",
       "      <td>unruly-asp-704</td>\n",
       "      <td>Jose</td>\n",
       "      <td>None</td>\n",
       "      <td>None</td>\n",
       "      <td>None</td>\n",
       "    </tr>\n",
       "    <tr>\n",
       "      <th>4</th>\n",
       "      <td>90d394feb1ac4c369bf6aab8f07f3c57</td>\n",
       "      <td>413629019968705854</td>\n",
       "      <td>FINISHED</td>\n",
       "      <td>file:///c:/Users/Jose/Documents/Jos/Cursos/Azu...</td>\n",
       "      <td>2025-05-26 21:27:27.892000+00:00</td>\n",
       "      <td>2025-05-26 21:27:33.660000+00:00</td>\n",
       "      <td>NaN</td>\n",
       "      <td>0.854712</td>\n",
       "      <td>0.834768</td>\n",
       "      <td>0.803233</td>\n",
       "      <td>...</td>\n",
       "      <td>0.0001</td>\n",
       "      <td>liblinear</td>\n",
       "      <td>deprecated</td>\n",
       "      <td>C:\\Users\\Jose\\AppData\\Local\\Packages\\PythonSof...</td>\n",
       "      <td>LOCAL</td>\n",
       "      <td>bustling-snail-140</td>\n",
       "      <td>Jose</td>\n",
       "      <td>[{\"run_id\": \"90d394feb1ac4c369bf6aab8f07f3c57\"...</td>\n",
       "      <td>LogisticRegression</td>\n",
       "      <td>sklearn.linear_model._logistic.LogisticRegression</td>\n",
       "    </tr>\n",
       "    <tr>\n",
       "      <th>5</th>\n",
       "      <td>ba3c784bc640485095ba999c084d0f33</td>\n",
       "      <td>413629019968705854</td>\n",
       "      <td>FAILED</td>\n",
       "      <td>file:///c:/Users/Jose/Documents/Jos/Cursos/Azu...</td>\n",
       "      <td>2025-05-26 21:25:37.966000+00:00</td>\n",
       "      <td>2025-05-26 21:25:38.404000+00:00</td>\n",
       "      <td>NaN</td>\n",
       "      <td>NaN</td>\n",
       "      <td>NaN</td>\n",
       "      <td>NaN</td>\n",
       "      <td>...</td>\n",
       "      <td>0.0001</td>\n",
       "      <td>liblinear</td>\n",
       "      <td>deprecated</td>\n",
       "      <td>C:\\Users\\Jose\\AppData\\Local\\Packages\\PythonSof...</td>\n",
       "      <td>LOCAL</td>\n",
       "      <td>lyrical-doe-396</td>\n",
       "      <td>Jose</td>\n",
       "      <td>None</td>\n",
       "      <td>LogisticRegression</td>\n",
       "      <td>sklearn.linear_model._logistic.LogisticRegression</td>\n",
       "    </tr>\n",
       "  </tbody>\n",
       "</table>\n",
       "<p>6 rows × 38 columns</p>\n",
       "</div>"
      ],
      "text/plain": [
       "                             run_id       experiment_id    status  \\\n",
       "0  05b1a400219f429990f581d653bd46c9  413629019968705854  FINISHED   \n",
       "1  176ca09275384d44ad61399db8397e8f  413629019968705854  FINISHED   \n",
       "2  53d1b0d82b3848bab5ebd07763990a92  413629019968705854  FINISHED   \n",
       "3  805c73d3309940a38e481ba11607a0ae  413629019968705854  FINISHED   \n",
       "4  90d394feb1ac4c369bf6aab8f07f3c57  413629019968705854  FINISHED   \n",
       "5  ba3c784bc640485095ba999c084d0f33  413629019968705854    FAILED   \n",
       "\n",
       "                                        artifact_uri  \\\n",
       "0  file:///c:/Users/Jose/Documents/Jos/Cursos/Azu...   \n",
       "1  file:///c:/Users/Jose/Documents/Jos/Cursos/Azu...   \n",
       "2  file:///c:/Users/Jose/Documents/Jos/Cursos/Azu...   \n",
       "3  file:///c:/Users/Jose/Documents/Jos/Cursos/Azu...   \n",
       "4  file:///c:/Users/Jose/Documents/Jos/Cursos/Azu...   \n",
       "5  file:///c:/Users/Jose/Documents/Jos/Cursos/Azu...   \n",
       "\n",
       "                        start_time                         end_time  \\\n",
       "0 2025-05-26 21:28:05.986000+00:00 2025-05-26 21:28:06.136000+00:00   \n",
       "1 2025-05-26 21:28:00.214000+00:00 2025-05-26 21:28:00.270000+00:00   \n",
       "2 2025-05-26 21:27:56.606000+00:00 2025-05-26 21:27:56.670000+00:00   \n",
       "3 2025-05-26 21:27:52.026000+00:00 2025-05-26 21:27:52.106000+00:00   \n",
       "4 2025-05-26 21:27:27.892000+00:00 2025-05-26 21:27:33.660000+00:00   \n",
       "5 2025-05-26 21:25:37.966000+00:00 2025-05-26 21:25:38.404000+00:00   \n",
       "\n",
       "   metrics.Accuracy  metrics.training_score  metrics.training_precision_score  \\\n",
       "0          0.763265                     NaN                               NaN   \n",
       "1          0.774150                     NaN                               NaN   \n",
       "2          0.834014                     NaN                               NaN   \n",
       "3          0.834014                     NaN                               NaN   \n",
       "4               NaN                0.854712                          0.834768   \n",
       "5               NaN                     NaN                               NaN   \n",
       "\n",
       "   metrics.training_f1_score  ...  params.tol  params.solver  \\\n",
       "0                        NaN  ...        None           None   \n",
       "1                        NaN  ...        None           None   \n",
       "2                        NaN  ...        None           None   \n",
       "3                        NaN  ...        None           None   \n",
       "4                   0.803233  ...      0.0001      liblinear   \n",
       "5                        NaN  ...      0.0001      liblinear   \n",
       "\n",
       "   params.multi_class                            tags.mlflow.source.name  \\\n",
       "0                None  C:\\Users\\Jose\\AppData\\Local\\Packages\\PythonSof...   \n",
       "1                None  C:\\Users\\Jose\\AppData\\Local\\Packages\\PythonSof...   \n",
       "2                None  C:\\Users\\Jose\\AppData\\Local\\Packages\\PythonSof...   \n",
       "3                None  C:\\Users\\Jose\\AppData\\Local\\Packages\\PythonSof...   \n",
       "4          deprecated  C:\\Users\\Jose\\AppData\\Local\\Packages\\PythonSof...   \n",
       "5          deprecated  C:\\Users\\Jose\\AppData\\Local\\Packages\\PythonSof...   \n",
       "\n",
       "  tags.mlflow.source.type   tags.mlflow.runName tags.mlflow.user  \\\n",
       "0                   LOCAL  monumental-snake-376             Jose   \n",
       "1                   LOCAL     smiling-sloth-305             Jose   \n",
       "2                   LOCAL      unleashed-rat-43             Jose   \n",
       "3                   LOCAL        unruly-asp-704             Jose   \n",
       "4                   LOCAL    bustling-snail-140             Jose   \n",
       "5                   LOCAL       lyrical-doe-396             Jose   \n",
       "\n",
       "                       tags.mlflow.log-model.history tags.estimator_name  \\\n",
       "0                                               None                None   \n",
       "1                                               None                None   \n",
       "2                                               None                None   \n",
       "3                                               None                None   \n",
       "4  [{\"run_id\": \"90d394feb1ac4c369bf6aab8f07f3c57\"...  LogisticRegression   \n",
       "5                                               None  LogisticRegression   \n",
       "\n",
       "                                tags.estimator_class  \n",
       "0                                               None  \n",
       "1                                               None  \n",
       "2                                               None  \n",
       "3                                               None  \n",
       "4  sklearn.linear_model._logistic.LogisticRegression  \n",
       "5  sklearn.linear_model._logistic.LogisticRegression  \n",
       "\n",
       "[6 rows x 38 columns]"
      ]
     },
     "execution_count": 9,
     "metadata": {},
     "output_type": "execute_result"
    }
   ],
   "source": [
    "mlflow.search_runs(exp.experiment_id)"
   ]
  },
  {
   "cell_type": "markdown",
   "metadata": {
    "id": "PEr4uuTudPgP"
   },
   "source": [
    "To more easily compare job runs and outputs, you can configure the search to order the results. For example, the following cell orders the results by `start_time`, and only shows a maximum of `2` results:"
   ]
  },
  {
   "cell_type": "code",
   "execution_count": 10,
   "metadata": {
    "id": "7LngnEhJdPgP"
   },
   "outputs": [
    {
     "data": {
      "text/html": [
       "<div>\n",
       "<style scoped>\n",
       "    .dataframe tbody tr th:only-of-type {\n",
       "        vertical-align: middle;\n",
       "    }\n",
       "\n",
       "    .dataframe tbody tr th {\n",
       "        vertical-align: top;\n",
       "    }\n",
       "\n",
       "    .dataframe thead th {\n",
       "        text-align: right;\n",
       "    }\n",
       "</style>\n",
       "<table border=\"1\" class=\"dataframe\">\n",
       "  <thead>\n",
       "    <tr style=\"text-align: right;\">\n",
       "      <th></th>\n",
       "      <th>run_id</th>\n",
       "      <th>experiment_id</th>\n",
       "      <th>status</th>\n",
       "      <th>artifact_uri</th>\n",
       "      <th>start_time</th>\n",
       "      <th>end_time</th>\n",
       "      <th>metrics.Accuracy</th>\n",
       "      <th>params.estimator</th>\n",
       "      <th>tags.mlflow.source.name</th>\n",
       "      <th>tags.mlflow.source.type</th>\n",
       "      <th>tags.mlflow.runName</th>\n",
       "      <th>tags.mlflow.user</th>\n",
       "    </tr>\n",
       "  </thead>\n",
       "  <tbody>\n",
       "    <tr>\n",
       "      <th>0</th>\n",
       "      <td>05b1a400219f429990f581d653bd46c9</td>\n",
       "      <td>413629019968705854</td>\n",
       "      <td>FINISHED</td>\n",
       "      <td>file:///c:/Users/Jose/Documents/Jos/Cursos/Azu...</td>\n",
       "      <td>2025-05-26 21:28:05.986000+00:00</td>\n",
       "      <td>2025-05-26 21:28:06.136000+00:00</td>\n",
       "      <td>0.763265</td>\n",
       "      <td>DecisionTreeClassifier</td>\n",
       "      <td>C:\\Users\\Jose\\AppData\\Local\\Packages\\PythonSof...</td>\n",
       "      <td>LOCAL</td>\n",
       "      <td>monumental-snake-376</td>\n",
       "      <td>Jose</td>\n",
       "    </tr>\n",
       "    <tr>\n",
       "      <th>1</th>\n",
       "      <td>176ca09275384d44ad61399db8397e8f</td>\n",
       "      <td>413629019968705854</td>\n",
       "      <td>FINISHED</td>\n",
       "      <td>file:///c:/Users/Jose/Documents/Jos/Cursos/Azu...</td>\n",
       "      <td>2025-05-26 21:28:00.214000+00:00</td>\n",
       "      <td>2025-05-26 21:28:00.270000+00:00</td>\n",
       "      <td>0.774150</td>\n",
       "      <td>DecisionTreeClassifier</td>\n",
       "      <td>C:\\Users\\Jose\\AppData\\Local\\Packages\\PythonSof...</td>\n",
       "      <td>LOCAL</td>\n",
       "      <td>smiling-sloth-305</td>\n",
       "      <td>Jose</td>\n",
       "    </tr>\n",
       "  </tbody>\n",
       "</table>\n",
       "</div>"
      ],
      "text/plain": [
       "                             run_id       experiment_id    status  \\\n",
       "0  05b1a400219f429990f581d653bd46c9  413629019968705854  FINISHED   \n",
       "1  176ca09275384d44ad61399db8397e8f  413629019968705854  FINISHED   \n",
       "\n",
       "                                        artifact_uri  \\\n",
       "0  file:///c:/Users/Jose/Documents/Jos/Cursos/Azu...   \n",
       "1  file:///c:/Users/Jose/Documents/Jos/Cursos/Azu...   \n",
       "\n",
       "                        start_time                         end_time  \\\n",
       "0 2025-05-26 21:28:05.986000+00:00 2025-05-26 21:28:06.136000+00:00   \n",
       "1 2025-05-26 21:28:00.214000+00:00 2025-05-26 21:28:00.270000+00:00   \n",
       "\n",
       "   metrics.Accuracy        params.estimator  \\\n",
       "0          0.763265  DecisionTreeClassifier   \n",
       "1          0.774150  DecisionTreeClassifier   \n",
       "\n",
       "                             tags.mlflow.source.name tags.mlflow.source.type  \\\n",
       "0  C:\\Users\\Jose\\AppData\\Local\\Packages\\PythonSof...                   LOCAL   \n",
       "1  C:\\Users\\Jose\\AppData\\Local\\Packages\\PythonSof...                   LOCAL   \n",
       "\n",
       "    tags.mlflow.runName tags.mlflow.user  \n",
       "0  monumental-snake-376             Jose  \n",
       "1     smiling-sloth-305             Jose  "
      ]
     },
     "execution_count": 10,
     "metadata": {},
     "output_type": "execute_result"
    }
   ],
   "source": [
    "mlflow.search_runs(exp.experiment_id, order_by=[\"start_time DESC\"], max_results=2)"
   ]
  },
  {
   "cell_type": "markdown",
   "metadata": {
    "id": "0606X2xKdPgP"
   },
   "source": [
    "You can even create a query to filter the runs. Filter query strings are written with a simplified version of the SQL `WHERE` clause.\n",
    "\n",
    "To filter, you can use two classes of comparators:\n",
    "\n",
    "- Numeric comparators (metrics): =, !=, >, >=, <, and <=.\n",
    "- String comparators (params, tags, and attributes): = and !=.\n",
    "\n",
    "Learn more about [how to track experiments with MLflow](https://learn.microsoft.com/azure/machine-learning/how-to-track-experiments-mlflow)."
   ]
  },
  {
   "cell_type": "code",
   "execution_count": 11,
   "metadata": {
    "id": "HoA4OGOhdPgP"
   },
   "outputs": [
    {
     "data": {
      "text/html": [
       "<div>\n",
       "<style scoped>\n",
       "    .dataframe tbody tr th:only-of-type {\n",
       "        vertical-align: middle;\n",
       "    }\n",
       "\n",
       "    .dataframe tbody tr th {\n",
       "        vertical-align: top;\n",
       "    }\n",
       "\n",
       "    .dataframe thead th {\n",
       "        text-align: right;\n",
       "    }\n",
       "</style>\n",
       "<table border=\"1\" class=\"dataframe\">\n",
       "  <thead>\n",
       "    <tr style=\"text-align: right;\">\n",
       "      <th></th>\n",
       "      <th>run_id</th>\n",
       "      <th>experiment_id</th>\n",
       "      <th>status</th>\n",
       "      <th>artifact_uri</th>\n",
       "      <th>start_time</th>\n",
       "      <th>end_time</th>\n",
       "    </tr>\n",
       "  </thead>\n",
       "  <tbody>\n",
       "  </tbody>\n",
       "</table>\n",
       "</div>"
      ],
      "text/plain": [
       "Empty DataFrame\n",
       "Columns: [run_id, experiment_id, status, artifact_uri, start_time, end_time]\n",
       "Index: []"
      ]
     },
     "execution_count": 11,
     "metadata": {},
     "output_type": "execute_result"
    }
   ],
   "source": [
    "query = \"metrics.AUC > 0.8 and tags.model_type = 'LogisticRegression'\"\n",
    "mlflow.search_runs(exp.experiment_id, filter_string=query)"
   ]
  }
 ],
 "metadata": {
  "colab": {
   "provenance": [],
   "toc_visible": true
  },
  "kaggle": {
   "accelerator": "none",
   "dataSources": [],
   "isGpuEnabled": false,
   "isInternetEnabled": false,
   "language": "python",
   "sourceType": "notebook"
  },
  "kernel_info": {
   "name": "python38-azureml"
  },
  "kernelspec": {
   "display_name": "Python 3",
   "language": "python",
   "name": "python3"
  },
  "language_info": {
   "codemirror_mode": {
    "name": "ipython",
    "version": 3
   },
   "file_extension": ".py",
   "mimetype": "text/x-python",
   "name": "python",
   "nbconvert_exporter": "python",
   "pygments_lexer": "ipython3",
   "version": "3.12.10"
  },
  "microsoft": {
   "host": {
    "AzureML": {
     "notebookHasBeenCompleted": true
    }
   }
  },
  "nteract": {
   "version": "nteract-front-end@1.0.0"
  }
 },
 "nbformat": 4,
 "nbformat_minor": 4
}
